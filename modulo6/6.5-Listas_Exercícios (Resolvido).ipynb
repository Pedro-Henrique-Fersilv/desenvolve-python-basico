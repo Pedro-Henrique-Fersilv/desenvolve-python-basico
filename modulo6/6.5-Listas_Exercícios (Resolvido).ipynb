{
  "metadata": {
    "kernelspec": {
      "name": "python",
      "display_name": "Python (Pyodide)",
      "language": "python"
    },
    "language_info": {
      "codemirror_mode": {
        "name": "python",
        "version": 3
      },
      "file_extension": ".py",
      "mimetype": "text/x-python",
      "name": "python",
      "nbconvert_exporter": "python",
      "pygments_lexer": "ipython3",
      "version": "3.8"
    }
  },
  "nbformat_minor": 5,
  "nbformat": 4,
  "cells": [
    {
      "id": "0d5035b5",
      "cell_type": "markdown",
      "source": "# Listas\n\n## Aulas 6.1 a 6.5 ",
      "metadata": {}
    },
    {
      "id": "0bdece85",
      "cell_type": "markdown",
      "source": "### Q1. \n\nUsando a função embutida ```map``` e criando uma função ```lambda```, transforme uma lista com os raios de múltiplas circunferências em uma nova lista com as respectivas áreas. O cálculo de cada área é dado por: ```pi*(raio**2)```\n- Use a constante pi da biblioteca math \n- Arredonde o resultado para 2 casas decimais\n",
      "metadata": {}
    },
    {
      "id": "0a258eba",
      "cell_type": "code",
      "source": "## Complete a solução\n\nraios = [1.5, 0.8, 2.3, 5.0]\n\n## Complete a solução\n\nimport math\nareas = map(lambda r: round(math.pi*(r**2),2), raios)\nprint(list(areas))",
      "metadata": {
        "trusted": true
      },
      "outputs": [
        {
          "name": "stdout",
          "text": "[7.07, 2.01, 16.62, 78.54]\n",
          "output_type": "stream"
        }
      ],
      "execution_count": 7
    },
    {
      "id": "649a5082",
      "cell_type": "markdown",
      "source": "### Q2. \n\nCrie uma função customizada e aplique a função embutida ```filter``` para operar em uma lista de listas contendo os lados de múltiplos triângulos. Construa uma nova lista contendo apenas os triângulos equiláteros, ou seja, com os três lados iguais.\n",
      "metadata": {}
    },
    {
      "id": "47cb0573",
      "cell_type": "code",
      "source": "## Crie a função customizada\ndef testa_equilatero(lados):\n    if lados[0] == lados[1] and lados[1] == lados[2]:\n        return True\n\n### Usando filter, aplique a função customizada aos seguintes triangulos\ntriangulos  = [[2,2,2], [3,4,5], [3,2,2],[4,4,4]]\nequilateros = filter(testa_equilatero,triangulos)\nprint(list(equilateros))",
      "metadata": {
        "trusted": true
      },
      "outputs": [
        {
          "name": "stdout",
          "text": "[[2, 2, 2], [4, 4, 4]]\n",
          "output_type": "stream"
        }
      ],
      "execution_count": 6
    },
    {
      "id": "bb62d219",
      "cell_type": "markdown",
      "source": "### Q3. \nCrie uma função chamada ```ordena_por_comprimento``` que aceite uma lista de strings e a ordene com base no comprimento das strings, do menor para o maior. Utilize a função ```sorte``` e uma expressão ```lambda```.",
      "metadata": {}
    },
    {
      "id": "add41556",
      "cell_type": "code",
      "source": "### crie a função ordena_por_comprimento e retorne a lista resultado\ndef ordena_por_comprimento(lista):\n    return sorted(lista, key=lambda x: len(x))\n\n### aplique sua função à seguinte lista e imprima o resultado\nnomes = [\"Joao\", \"Maria\", \"Jose\", \"Gabriela\", \"Sol\", \"Luna\", \"Bento\", \"Enzo\", \"Fernanda\"]\nprint(list(ordena_por_comprimento(nomes)))",
      "metadata": {
        "trusted": true
      },
      "outputs": [
        {
          "name": "stdout",
          "text": "['Sol', 'Joao', 'Jose', 'Luna', 'Enzo', 'Maria', 'Bento', 'Gabriela', 'Fernanda']\n",
          "output_type": "stream"
        }
      ],
      "execution_count": 5
    },
    {
      "id": "8710b1a7",
      "cell_type": "markdown",
      "source": "### Q4.\n\nCrie uma lista de listas (uma matriz de 2 dimensões) de tamanho $n \\times n$, com $n$ dado pelo usuário. Cada elemento da matriz deve ser o produto dos índices da linha pela coluna.\n\nExemplo:\n```\nDigite n: 4\nMatriz:\n[[0, 0, 0, 0],\n [0, 1, 2, 3],\n [0, 2, 4, 6],\n [0, 3, 6, 9]]\n```",
      "metadata": {}
    },
    {
      "id": "0b7ee921",
      "cell_type": "code",
      "source": "# Implemente sua solução aqui\nn = int(input(\"Digite um número: \"))\nmatriz = [[i*j for j in range(n)] for i in range(n)]\n\nprint(\"Matriz:\")\nfor linha in matriz:\n    print(linha)",
      "metadata": {},
      "outputs": [],
      "execution_count": null
    },
    {
      "id": "f41781df",
      "cell_type": "markdown",
      "source": "### Q5.\n\nDada uma lista de números inteiros, implemente uma função em Python chamada ```pares_unicos``` que encontre e retorne todos os pares únicos de elementos na lista cuja soma seja igual a um determinado valor. Considere que a ordem dos pares não é relevante.",
      "metadata": {}
    },
    {
      "id": "7a76f765",
      "cell_type": "code",
      "source": "def pares_unicos(numeros, soma_objetivo):\n    # Implemente sua solução aqui\n    vistos = list()\n    pares = list()\n    \n    for i in numeros:\n        subtrado = soma_objetivo - i\n        if subtrado in vistos:\n            pares.append((subtrado, i))\n        vistos.append(i)\n\n    return pares\n\n# Exemplo de uso:\nnums = [3, 4, 5, 6, 7]\nsoma = 10\nresultado = pares_unicos(nums, soma)\nprint(resultado)  # Saída esperada: [(3, 7), (4, 6)]",
      "metadata": {
        "trusted": true
      },
      "outputs": [
        {
          "name": "stdout",
          "text": "[(4, 6), (3, 7)]\n",
          "output_type": "stream"
        }
      ],
      "execution_count": 4
    },
    {
      "id": "87e44893",
      "cell_type": "markdown",
      "source": "### Q5.\n\nEscreva um programa para encontrar a diferença entre duas listas, incluindo elementos duplicados.\n\nEx:\n```\nListas originais: \n[1, 1, 2, 3, 3, 4, 4, 5, 6, 7]\n[1, 1, 2, 4, 5, 6]\nDiferença entre as listas:\n[3, 3, 4, 7]\n```",
      "metadata": {}
    },
    {
      "id": "7edc027c",
      "cell_type": "code",
      "source": "# Implemente sua solução aqui\nlista1 = [1, 1, 2, 3, 3, 4, 4, 5, 6, 7]\nlista2 = [1, 1, 2, 4, 5, 6]\n\n#Testando qual a maior lista(neste caso não é muito útil, mas caso precise trocar o tamanho das listas, funciona também)\nif len(lista1) > len(lista2):\n    lista_maior = lista1\n    lista_menor = lista2\nelse:\n    lista_maior = lista2\n    lista_menor = lista1\n\nfor i in lista_menor:\n    if i in lista_maior:\n        lista_maior.remove(i)\n\ndiferenca = lista_maior\n\nprint(diferenca)",
      "metadata": {
        "trusted": true
      },
      "outputs": [
        {
          "name": "stdout",
          "text": "[3, 3, 4, 7]\n",
          "output_type": "stream"
        }
      ],
      "execution_count": 1
    },
    {
      "id": "f4c4236d",
      "cell_type": "markdown",
      "source": "### Q6.\n\nDada uma lista aleatória, escreva um programa que separa os valores em listas menores de acordo com o tamanho solicitado. Caso não seja possível repartir igualmente a lista original, a última sublista deve conter os elementos remanescentes, como indicado no exemplo a seguir.\n\nNote que seu programa deve continuar executando em um laço infinito até que o usuário informe o tamanho 0 na entrada solicitada.\n\n```\nLista original:\n[12, 45, 23, 67, 78, 90, 45, 32, 100, 76, 38, 62, 73, 29, 83]\n\nTamanho para divisão: 3\nSubslistas:\n[[12, 45, 23], [67, 78, 90], [45, 32, 100], [76, 38, 62], [73, 29, 83]]\n\nTamanho para divisão: 4\nSubslistas: [[12, 45, 23, 67], [78, 90, 45, 32], [100, 76, 38, 62], [73, 29, 83]]\n\nTamanho para divisão: 0\n```",
      "metadata": {}
    },
    {
      "id": "792563de",
      "cell_type": "code",
      "source": "import random\nlista = [random.randint(1,100) for i in range(20)]\nsublista = list()\n\n# Implemente sua solução aqui\ndef dividir_lista(lista, tamanho):\n    return [lista[i:i + tamanho] for i in range(0, len(lista), tamanho)]\n\nwhile True:\n    tamanho = int(input(\"Tamanho para divisão: \"))\n    if tamanho == 0:\n        break\n\n    sublista = dividir_lista(lista,tamanho)\n    print(\"Sublsitas: \")\n    print(sublista)",
      "metadata": {},
      "outputs": [],
      "execution_count": null
    },
    {
      "id": "c65be32f",
      "cell_type": "markdown",
      "source": "### Q7.\n\nVocê está desenvolvendo um programa para determinar o vencedor de um jogo da velha. Escreva uma função ```avalia_tabuleiro()``` que recebe uma lista representando o estado atual do tabuleiro e determina se há um vencedor. \n\nA lista terá 3 sublistas, cada uma representando uma linha do tabuleiro. Cada elemento das sublistas pode ser 'X', 'O' ou vazio (' ').\n\nO programa deve imprimir o vencedor ('X', 'O'), se houver um, ou \"Empate\" se não houver vencedor. Um vencedor é determinado se houver três 'X' ou três 'O' em linha (horizontal, vertical ou diagonal).\n\nExemplo:\n```python\ntabuleiro = [\n    ['X', 'O', 'X'],\n    [' ', 'X', 'O'],\n    ['O', ' ', 'O']\n]\n```\nO resultado seria \"Empate\", pois não há um vencedor no exemplo fornecido. \n\nExemplo 2:\n```python\ntabuleiro = [\n    ['O', 'X', 'O'],\n    ['X', 'O', 'X'],\n    ['X', ' ', 'O']\n]\n```\nO resultado seria \"O\", pois 'O' venceu na diagonal central.",
      "metadata": {}
    },
    {
      "id": "720ca24d",
      "cell_type": "code",
      "source": "### Escreva a função avalia_tabuleiro()\ndef avalia_tabuleiro(tabuleiro):\n    #HORIZONTAL\n    for horizontal in tabuleiro:\n        if horizontal.count(\"X\") == 3:\n            return 1\n        elif horizontal.count(\"O\") == 3:\n            return 2\n    #VERTICAL\n    for c in range(3):\n        vertical = [i[c] for i in tabuleiro]\n        if vertical.count(\"X\") == 3:\n            return 1\n        elif vertical.count(\"O\") == 3:\n            return 2     \n    #DIAGONAL\n    diagonal_principal = [tabuleiro[i][i] for i in range(3)]\n    if diagonal_principal.count(\"X\") == 3:\n        return 1\n    elif diagonal_principal.count(\"O\") == 3:\n        return 2\n\n    diagonal_secundaria = [tabuleiro[i][2-i] for i in range(3)]\n    if diagonal_secundaria.count(\"X\") == 3:\n        return 1\n    elif diagonal_secundaria.count(\"O\") == 3:\n        return 2\n\ntabuleiro = [\n    ['X', 'O', 'X'],\n    [' ', 'X', 'O'],\n    ['O', ' ', 'X']\n]\n\n#Verificar qual foi o resultado\nif avalia_tabuleiro(tabuleiro) == 1:\n    print (\"X venceu\")\nelif avalia_tabuleiro(tabuleiro) == 2:\n    print(\"O venceu\")\nelse:\n    print(\"Empate\")",
      "metadata": {
        "trusted": true
      },
      "outputs": [
        {
          "name": "stdout",
          "text": "X venceu\n",
          "output_type": "stream"
        }
      ],
      "execution_count": 1
    },
    {
      "id": "667ea8e1-0bb4-4ff9-a040-880dfc988e39",
      "cell_type": "code",
      "source": "",
      "metadata": {
        "trusted": true
      },
      "outputs": [],
      "execution_count": null
    }
  ]
}