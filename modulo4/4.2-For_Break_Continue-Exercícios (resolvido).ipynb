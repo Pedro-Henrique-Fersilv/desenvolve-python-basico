{
  "metadata": {
    "kernelspec": {
      "name": "python",
      "display_name": "Python (Pyodide)",
      "language": "python"
    },
    "language_info": {
      "codemirror_mode": {
        "name": "python",
        "version": 3
      },
      "file_extension": ".py",
      "mimetype": "text/x-python",
      "name": "python",
      "nbconvert_exporter": "python",
      "pygments_lexer": "ipython3",
      "version": "3.8"
    }
  },
  "nbformat_minor": 5,
  "nbformat": 4,
  "cells": [
    {
      "id": "29e89030",
      "cell_type": "markdown",
      "source": "# Módulo 4 - Repetições\n\n## Aulas 4.2 - Comando ```for``` e 4.3 Break e Continue",
      "metadata": {}
    },
    {
      "id": "a45b42df",
      "cell_type": "markdown",
      "source": "### Q1.\n\nCrie um programa em Python que utilize o comando for para imprimir os números de 10 a 1, em ordem decrescente.",
      "metadata": {}
    },
    {
      "id": "55a75b3d",
      "cell_type": "code",
      "source": "## Escreva e execute seu código aqui\nfor i in range(10,0,-1):\n    print(i)",
      "metadata": {
        "trusted": true
      },
      "outputs": [
        {
          "name": "stdout",
          "text": "10\n9\n8\n7\n6\n5\n4\n3\n2\n1\n",
          "output_type": "stream"
        }
      ],
      "execution_count": 11
    },
    {
      "id": "94b47c36",
      "cell_type": "markdown",
      "source": "### Q2.\n\nDado um número inteiro positivo informado pelo usuário, crie um programa em Python que utilize o comando for para calcular e exibir a soma dos números de 1 até o número informado. Ou seja, $1 + 2 + 3 + ... + n$\n\nExemplo de interação:\n```\nDigite um número: 5\nA soma dos números de 1 a 5 é 15\n```\n",
      "metadata": {}
    },
    {
      "id": "45b71596",
      "cell_type": "code",
      "source": "## Escreva e execute seu código aqui\n##POR ALGUM MOTIVO A ATRIBUIÇÃO DE INTEIRO PELO INPUT NÃO ESTÁ FUNCIONANDO\nn = int(input(\"Digite um número: \"))\nsoma = 0\n\nfor i in range(1, n+1):\n    soma += i\n\nprint(f\"A soma dos números é de: {soma}\")",
      "metadata": {
        "trusted": true
      },
      "outputs": [
        {
          "ename": "<class 'TypeError'>",
          "evalue": "int() argument must be a string, a bytes-like object or a real number, not 'PyodideFuture'",
          "traceback": [
            "\u001b[0;31m---------------------------------------------------------------------------\u001b[0m",
            "\u001b[0;31mTypeError\u001b[0m                                 Traceback (most recent call last)",
            "Cell \u001b[0;32mIn[1], line 2\u001b[0m\n\u001b[1;32m      1\u001b[0m \u001b[38;5;66;03m## Escreva e execute seu código aqui\u001b[39;00m\n\u001b[0;32m----> 2\u001b[0m n \u001b[38;5;241m=\u001b[39m \u001b[38;5;28;43mint\u001b[39;49m\u001b[43m(\u001b[49m\u001b[38;5;28;43minput\u001b[39;49m\u001b[43m(\u001b[49m\u001b[38;5;124;43m\"\u001b[39;49m\u001b[38;5;124;43mDigite um número: \u001b[39;49m\u001b[38;5;124;43m\"\u001b[39;49m\u001b[43m)\u001b[49m\u001b[43m)\u001b[49m\n\u001b[1;32m      3\u001b[0m soma \u001b[38;5;241m=\u001b[39m \u001b[38;5;241m0\u001b[39m\n\u001b[1;32m      5\u001b[0m \u001b[38;5;28;01mfor\u001b[39;00m i \u001b[38;5;129;01min\u001b[39;00m \u001b[38;5;28mrange\u001b[39m(\u001b[38;5;241m1\u001b[39m, n\u001b[38;5;241m+\u001b[39m\u001b[38;5;241m1\u001b[39m):\n",
            "\u001b[0;31mTypeError\u001b[0m: int() argument must be a string, a bytes-like object or a real number, not 'PyodideFuture'"
          ],
          "output_type": "error"
        },
        {
          "output_type": "stream",
          "name": "stdin",
          "text": "Digite um número:  7\n"
        }
      ],
      "execution_count": 1
    },
    {
      "id": "0411d170",
      "cell_type": "markdown",
      "source": "### Q3.\n\nEscreva um programa que lê 10 valores inteiros positivos do usuário e ao final imprime a média dos valores digitados com duas casas decimais.\n\n```\nDigite 10 números positivos:\n3\n2\n12\n14\n20\n42\n19\n0\n8\n1\nA média dos valores digitados é 12.10\n```",
      "metadata": {}
    },
    {
      "id": "3f72f358",
      "cell_type": "code",
      "source": "## Escreva e execute seu código aqui\nmedia = 0\nr = 0\n\nprint(\"Digite 10 números positivos: \")\n\nfor i in range(10):\n    r = int(input())\n    media += r\n\nprint(f\"A média dos valores digitados é: {media/10: .2f}\")",
      "metadata": {
        "trusted": true,
        "scrolled": true
      },
      "outputs": [
        {
          "name": "stdout",
          "text": "Digite 10 números positivos: \n",
          "output_type": "stream"
        },
        {
          "ename": "<class 'TypeError'>",
          "evalue": "int() argument must be a string, a bytes-like object or a real number, not 'PyodideFuture'",
          "traceback": [
            "\u001b[0;31m---------------------------------------------------------------------------\u001b[0m",
            "\u001b[0;31mTypeError\u001b[0m                                 Traceback (most recent call last)",
            "Cell \u001b[0;32mIn[22], line 8\u001b[0m\n\u001b[1;32m      5\u001b[0m \u001b[38;5;28mprint\u001b[39m(\u001b[38;5;124m\"\u001b[39m\u001b[38;5;124mDigite 10 números positivos: \u001b[39m\u001b[38;5;124m\"\u001b[39m)\n\u001b[1;32m      7\u001b[0m \u001b[38;5;28;01mfor\u001b[39;00m i \u001b[38;5;129;01min\u001b[39;00m \u001b[38;5;28mrange\u001b[39m(\u001b[38;5;241m10\u001b[39m):\n\u001b[0;32m----> 8\u001b[0m     r \u001b[38;5;241m=\u001b[39m \u001b[38;5;28;43mint\u001b[39;49m\u001b[43m(\u001b[49m\u001b[38;5;28;43minput\u001b[39;49m\u001b[43m(\u001b[49m\u001b[43m)\u001b[49m\u001b[43m)\u001b[49m\n\u001b[1;32m      9\u001b[0m     media \u001b[38;5;241m+\u001b[39m\u001b[38;5;241m=\u001b[39m r\n\u001b[1;32m     11\u001b[0m \u001b[38;5;28mprint\u001b[39m(\u001b[38;5;124mf\u001b[39m\u001b[38;5;124m\"\u001b[39m\u001b[38;5;124mA média dos valores digitados é: \u001b[39m\u001b[38;5;132;01m{\u001b[39;00mmedia\u001b[38;5;241m/\u001b[39m\u001b[38;5;241m10\u001b[39m\u001b[38;5;132;01m:\u001b[39;00m\u001b[38;5;124m .2f\u001b[39m\u001b[38;5;132;01m}\u001b[39;00m\u001b[38;5;124m\"\u001b[39m)\n",
            "\u001b[0;31mTypeError\u001b[0m: int() argument must be a string, a bytes-like object or a real number, not 'PyodideFuture'"
          ],
          "output_type": "error"
        },
        {
          "output_type": "stream",
          "name": "stdin",
          "text": " 5\n"
        }
      ],
      "execution_count": 22
    },
    {
      "id": "d62e27ff",
      "cell_type": "markdown",
      "source": "### Q4.\n\nVocê vai criar um sistema que registra os resultados dos jogos do Atlético MG ao longo de um campeonato. Seu sistema vai receber os resultados de todos os jogos do Galo, e deve calcular a pontuação do time sabendo que vitórias valem 3 pontos, empates 1 ponto e derrotas 0 pontos.\n\nEntrada: <br>\nA primeira linha de entrada é um inteiro N com a quantidade jogos do galo. Para cada jogo você deve ler 2 inteiros, o primeiro com a quantidade de gols do galo e o segundo com a quantidade de gols do time oponente. \n\nSaída: <br>\nApresente a soma de vitórias, empates e derrotas do galo, junto com o cálculo da pontuação total.\n\nEx:\n```\nEntrada:\n4\n2\n0\n1\n1\n0\n3\n1\n0\n\nSaída:\nVitórias: 2\nEmpates: 1\nDerrotas: 1\nPontuação: 7\n\n```\n\n\n",
      "metadata": {}
    },
    {
      "id": "d3fdfc2a",
      "cell_type": "code",
      "source": "## Escreva e execute seu código aqui\nn = int(input(\"Quantos jogo foram jogados? \"))\nempate = 0\nvitoria = 0\nderrota = 0\n\nfor i in range(n):\n    atletico = int(input())\n    oponente = int(input())\n\n    if atletico == oponente:\n        empate += 1\n    \n    elif atletico > oponente:\n        vitoria += 1\n    \n    else:\n        derrota += 1\n\npontuacao = (vitoria * 3) + (empate)\n\nprint(f\"Vitórias: {vitoria}\")\nprint(f\"Empates: {empate}\")\nprint(f\"Derrotas: {derrota}\")\nprint(f\"Pontuação: {pontuacao}\")",
      "metadata": {
        "trusted": true
      },
      "outputs": [
        {
          "ename": "<class 'TypeError'>",
          "evalue": "int() argument must be a string, a bytes-like object or a real number, not 'PyodideFuture'",
          "traceback": [
            "\u001b[0;31m---------------------------------------------------------------------------\u001b[0m",
            "\u001b[0;31mTypeError\u001b[0m                                 Traceback (most recent call last)",
            "Cell \u001b[0;32mIn[4], line 2\u001b[0m\n\u001b[1;32m      1\u001b[0m \u001b[38;5;66;03m## Escreva e execute seu código aqui\u001b[39;00m\n\u001b[0;32m----> 2\u001b[0m n \u001b[38;5;241m=\u001b[39m \u001b[38;5;28;43mint\u001b[39;49m\u001b[43m(\u001b[49m\u001b[38;5;28;43minput\u001b[39;49m\u001b[43m(\u001b[49m\u001b[38;5;124;43m\"\u001b[39;49m\u001b[38;5;124;43mQuantos jogo foram jogados? \u001b[39;49m\u001b[38;5;124;43m\"\u001b[39;49m\u001b[43m)\u001b[49m\u001b[43m)\u001b[49m\n\u001b[1;32m      3\u001b[0m empate \u001b[38;5;241m=\u001b[39m \u001b[38;5;241m0\u001b[39m\n\u001b[1;32m      4\u001b[0m vitoria \u001b[38;5;241m=\u001b[39m \u001b[38;5;241m0\u001b[39m\n",
            "\u001b[0;31mTypeError\u001b[0m: int() argument must be a string, a bytes-like object or a real number, not 'PyodideFuture'"
          ],
          "output_type": "error"
        }
      ],
      "execution_count": 4
    },
    {
      "id": "fc98604d",
      "cell_type": "markdown",
      "source": "### Q5.\n\nFaça um programa que lê dois inteiros N e M, e imprime na tela um campo de batalha naval. O tabuleiro deve possuir N linhas e M colunas. A primeira linha é composta por um espaço em branco e o cabeçalho das colunas, ou seja, valores de 1 a M. As N linhas seguintes iniciam com o cabeçalho da linha, ou seja, seu número, seguido de M caracteres \"/\" (barra) indicando uma possível posição jogável. \n\n```\nEntrada:\n5\n4\n\nSaída:\n  1 2 3 4 \n1 / / / / \n2 / / / / \n3 / / / / \n4 / / / / \n5 / / / / \n```\n\nPara esse exercício, precisamos lembrar que o comando print implicitamente adiciona uma quebra de linha ao final da impressão. Podemos interferir no final da impressão adicionando mais uma entrada ao print. No exemplo, finalizamos cada linha com um espaço em branco:\n```python\nprint(\"Texto qualquer\", end = \" \")\n```",
      "metadata": {}
    },
    {
      "id": "a60ef197",
      "cell_type": "code",
      "source": "## Escreva e execute seu código aqui\nn = int(input(\"Quantas linhas?\"))\nm = int(input(\"Quantas colunas?\"))\n\nbarra = \" /\"\n\nfor i in range(1,m+1):\n    if i == 1:\n        print(\" \", end = \" \")\n    print(i, end = \" \")\n\n\nfor i in range(1,n+1):\n    if i == 1:\n        print(\" \")\n    print(str(i) + (barra * m))",
      "metadata": {},
      "outputs": [],
      "execution_count": null
    },
    {
      "id": "4654dc0b",
      "cell_type": "markdown",
      "source": "---\n## Break e Continue",
      "metadata": {}
    },
    {
      "id": "24fe9d85",
      "cell_type": "markdown",
      "source": "### Q6.\n\nEscreva um programa que lê uma quantidade indefinida de valores e informa o maior e o menor valor digitados. A leitura é encerrada quando o usuário digitar o valor 0 (zero).\n\n```\nEntrada:\n12\n-1\n29\n11\n-5\n0\n\nSaída:\nMaior: 29\nMenor: -5\n```",
      "metadata": {}
    },
    {
      "id": "ee1c466a",
      "cell_type": "code",
      "source": "## Escreva e execute seu código aqui\nn = int(input(\"Digite um valor: \"))\nn_maior = n\nn_menor = n\n\nwhile 1 > 0:\n    n = int(input(\"Digite um valor: \"))\n    \n    if n == 0:\n        break\n\n    elif n < n_menor:\n        n_menor = n\n    \n    elif n > n_maior:\n        n_maior = n\n\nprint(f\"Maior número: {n_maior}\")\nprint(f\"Menor número: {n_menor}\")",
      "metadata": {},
      "outputs": [],
      "execution_count": null
    },
    {
      "id": "30d486f7",
      "cell_type": "markdown",
      "source": "### Q7.\n\nEscreva um programa que lê uma quantidade indefinida de valores e informa o **produto** dos valores positivos digitados. A leitura é encerrada quando o usuário digitar o valor 0 (zero).\n\n```\nEntrada:\n2\n-1\n1\n3\n-5\n0\n\nSaída:\nProduto: 6\n```",
      "metadata": {}
    },
    {
      "id": "2f1ac324",
      "cell_type": "code",
      "source": "## Escreva e execute seu código aqui\nproduto = 1\n\nwhile 1 > 0:\n    n = int(input(\"Digite um valor: \"))\n\n    if n == 0:\n        break\n    \n    elif n > 0:\n        produto *= n\n\nprint(f\"Produto: {produto}\")",
      "metadata": {},
      "outputs": [],
      "execution_count": null
    },
    {
      "id": "e932f3cf",
      "cell_type": "markdown",
      "source": "### Q8.\n\nVamos fazer uma calculadora que aceita expressões aritméticas de qualquer tamanho até que o usuário digite a palavra \"Fim\". Sua calculadora executa apenas as operações \"+\", \"-\".\n\n```\nEntrada:\n5\n+\n8\n-\n3\n+\n2\nFim\n\nSaída:\n12\n```",
      "metadata": {}
    },
    {
      "id": "e835d870",
      "cell_type": "code",
      "source": "## Escreva e execute seu código aqui\ntotal= 0\noperacao = \"+\"\n\nwhile 1 > 0:\n    r = (input())\n\n    if r == \"fim\":\n        break\n    \n    if r == \"+\" or r == \"-\":\n        operacao = r\n    \n    else:\n        r = int(r)\n        if operacao == \"+\":\n            total += r\n        \n        if operacao == \"-\":\n            total -= r\n\nprint(total)",
      "metadata": {},
      "outputs": [],
      "execution_count": null
    }
  ]
}