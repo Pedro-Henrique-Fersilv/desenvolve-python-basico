{
  "metadata": {
    "kernelspec": {
      "name": "python",
      "display_name": "Python (Pyodide)",
      "language": "python"
    },
    "language_info": {
      "codemirror_mode": {
        "name": "python",
        "version": 3
      },
      "file_extension": ".py",
      "mimetype": "text/x-python",
      "name": "python",
      "nbconvert_exporter": "python",
      "pygments_lexer": "ipython3",
      "version": "3.8"
    }
  },
  "nbformat_minor": 5,
  "nbformat": 4,
  "cells": [
    {
      "id": "0d5035b5",
      "cell_type": "markdown",
      "source": "# Dicionários\n\n## Aula 8.3",
      "metadata": {}
    },
    {
      "id": "0bdece85",
      "cell_type": "markdown",
      "source": "### Q1. \n\nEscreva uma função em Python chamada ```contagem_caracteres``` que recebe uma string como parâmetro e retorna um dicionário onde as chaves são os caracteres presentes na string e os valores são a contagem de cada caractere.\n",
      "metadata": {}
    },
    {
      "id": "09a9845d",
      "cell_type": "code",
      "source": "# Implemente aqui a função contagem_caracteres\ndef contagem_caracteres(frase):\n    resultado = {c: frase.count(c) for c in frase}\n    return resultado",
      "metadata": {
        "trusted": true
      },
      "outputs": [],
      "execution_count": 1
    },
    {
      "id": "0a258eba",
      "cell_type": "code",
      "source": "# Exemplo de uso:\nfrase = \"python programming\"\nresultado = contagem_caracteres(frase)\nprint(resultado)",
      "metadata": {
        "trusted": true
      },
      "outputs": [
        {
          "name": "stdout",
          "text": "{'p': 2, 'y': 1, 't': 1, 'h': 1, 'o': 2, 'n': 2, ' ': 1, 'r': 2, 'g': 2, 'a': 1, 'm': 2, 'i': 1}\n",
          "output_type": "stream"
        }
      ],
      "execution_count": 2
    },
    {
      "id": "649a5082",
      "cell_type": "markdown",
      "source": "### Q2. \n\nBaixe o arquivo contendo o roteiro do filme brasileiro \"Estômago\" e salve em seu computador com o nome \"estomago.txt\".\n\nhttps://aplauso.imprensaoficial.com.br/edicoes/12.0.813.502/12.0.813.502.txt\n\n- Escreva um script python que abre o arquivo de texto e cria um dicionário contando a quantidade de vezes que cada palavra aparece no texto.\n- Em seguida ordene o dicionário de forma decrescente pelos valores. Dessa maneira ele irá apresentar as palavras mais frequentes no início.\n- Apresente na tela o dicionário ordenado\n",
      "metadata": {}
    },
    {
      "id": "47cb0573",
      "cell_type": "code",
      "source": "# Implemente aqui sua solução\nwith open('estomago.txt', 'r') as f:\n    palavras = f.read().split()\n\nrepeticao = {p: palavras.count(p) for p in palavras}\nrepeticao = dict(sorted(repeticao.items(), key=lambda item: item[1], reverse=True))\nprint(repeticao)",
      "metadata": {
        "trusted": true
      },
      "outputs": [
        {
          "name": "stdout",
          "text": "{}\n",
          "output_type": "stream"
        }
      ],
      "execution_count": 5
    },
    {
      "id": "bb62d219",
      "cell_type": "markdown",
      "source": "### Q3. \n\nCrie uma função chamada ```mesclar_dicionarios``` que recebe dois dicionários como parâmetros e retorna um novo dicionário contendo a fusão dos dois. Se houver chaves comuns, o maior valor deve prevalecer.",
      "metadata": {}
    },
    {
      "id": "f4363612",
      "cell_type": "code",
      "source": "# Implemente aqui a função mesclar_dicionarios\ndef mesclar_dicionarios(dicionario1,dicionario2):\n    #tem essa forma q é bem mais fácil também mas acho que o exercício não queria isso:\n    #resultado = dicionario1 | dicionario2\n\n    if len(dicionario1) > len(dicionario2):\n        resultado = dicionario1\n        menor = dicionario2\n    else:\n        resultado = dicionario2\n        menor = dicionario1\n\n    for chave, valor in menor.items():\n        if chave in resultado.keys():\n            if valor > resultado[chave]:\n                resultado[chave] = valor\n        else:\n            resultado[chave] = valor\n\n    return resultado",
      "metadata": {
        "trusted": true
      },
      "outputs": [],
      "execution_count": 6
    },
    {
      "id": "add41556",
      "cell_type": "code",
      "source": "# Exemplo de uso:\ndicionario1 = {'a': 1, 'b': 2, 'c': 3}\ndicionario2 = {'b': 4, 'd': 5}\nresultado = mesclar_dicionarios(dicionario1, dicionario2)\nprint(resultado)\n# Saída esperada: {'a': 1, 'b': 4, 'c': 3, 'd': 5}",
      "metadata": {
        "trusted": true
      },
      "outputs": [
        {
          "name": "stdout",
          "text": "{'a': 1, 'b': 4, 'c': 3, 'd': 5}\n",
          "output_type": "stream"
        }
      ],
      "execution_count": 7
    },
    {
      "id": "8710b1a7",
      "cell_type": "markdown",
      "source": "### Q4.\n\nDesenvolva uma função em Python chamada ```filtrar_dicionario``` que recebe um dicionário e uma lista de chaves como parâmetros e retorna um novo dicionário contendo apenas as chaves que estão presentes na lista.",
      "metadata": {}
    },
    {
      "id": "0b7ee921",
      "cell_type": "code",
      "source": "# Implemente aqui a função filtrar_dicionario\ndef filtrar_dicionario(dicionario, chaves):\n    resultado = {}\n    for chave, valor in dicionario.items():\n        if chave in chaves:\n            resultado[chave] = valor\n    \n    return resultado",
      "metadata": {
        "trusted": true
      },
      "outputs": [],
      "execution_count": 8
    },
    {
      "id": "ebc131f6",
      "cell_type": "code",
      "source": "# Exemplo de uso:\ndados = {'a': 1, 'b': 2, 'c': 3, 'd': 4, 'e': 5}\nchaves_filtradas = ['a', 'c', 'e']\nresultado = filtrar_dicionario(dados, chaves_filtradas)\nprint(resultado)\n# Saída esperada: {'a': 1, 'c': 3, 'e': 5}",
      "metadata": {
        "trusted": true
      },
      "outputs": [
        {
          "name": "stdout",
          "text": "{'a': 1, 'c': 3, 'e': 5}\n",
          "output_type": "stream"
        }
      ],
      "execution_count": 9
    },
    {
      "id": "3203c51e",
      "cell_type": "markdown",
      "source": "### Q5.\n\nVocê está responsável por analisar os resultados de uma votação. Cada voto é representado por um dicionário com o nome do candidato e a quantidade de votos que recebeu em uma determinada sessão eleitoral. Escreva uma função chamada ```resultado_votacao``` que recebe uma lista de dicionários de votos e retorna um dicionário onde as chaves são os nomes dos candidatos, e os valores são tuplas ```(total, percentual)``` com o total de votos recebidos por cada candidato e o percentual em relação à soma total de votos em todos os candidatos. ",
      "metadata": {}
    },
    {
      "id": "2c856eee",
      "cell_type": "code",
      "source": "# Implemente aqui a função resultado_votacao\ndef resultado_votacao(votos):\n    resultado = {}\n    for dicionario in votos:\n        for chave, valor in dicionario.items():\n            if chave in resultado:\n                resultado[chave] = resultado[chave] + valor\n            else:\n                resultado[chave] = valor\n    \n    total = sum(resultado.values())\n    for chave, valor in resultado.items():\n        percentual = round(valor / total * 100,2)\n        resultado[chave] = valor, percentual\n\n    return resultado",
      "metadata": {
        "trusted": true
      },
      "outputs": [],
      "execution_count": 10
    },
    {
      "id": "ff2044de",
      "cell_type": "code",
      "source": "# Exemplo de uso:\nvotos = [\n    {'candidato_A': 120, 'candidato_B': 85, 'candidato_C': 90},\n    {'candidato_A': 110, 'candidato_B': 95, 'candidato_C': 80},\n    {'candidato_A': 130, 'candidato_B': 78, 'candidato_C': 105},\n]\nresultado = resultado_votacao(votos)\nprint(resultado)  # Saída esperada: {'candidato_A': (360, 40.31), 'candidato_B': (258, 28.89), \n                                ###  'candidato_C': (275, 30.79)}",
      "metadata": {
        "trusted": true
      },
      "outputs": [
        {
          "name": "stdout",
          "text": "{'candidato_A': (360, 40.31), 'candidato_B': (258, 28.89), 'candidato_C': (275, 30.8)}\n",
          "output_type": "stream"
        }
      ],
      "execution_count": 11
    }
  ]
}