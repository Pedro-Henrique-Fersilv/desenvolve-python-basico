{
  "cells": [
    {
      "cell_type": "markdown",
      "id": "0d5035b5",
      "metadata": {},
      "source": [
        "# Set\n",
        "\n",
        "## Aula 8.1"
      ]
    },
    {
      "cell_type": "markdown",
      "id": "0bdece85",
      "metadata": {},
      "source": [
        "### Q1. \n",
        "\n",
        "Dada uma string qualquer, use seu conhecimento de sets para apresentar os caracteres únicos que aparecem na string, ordenados alfabeticamente e sem duplicatas. Preste atenção em duplicatas de maiúsculas e minúsculas.\n"
      ]
    },
    {
      "cell_type": "code",
      "execution_count": null,
      "id": "0a258eba",
      "metadata": {},
      "outputs": [],
      "source": [
        "frase = \"O rato roeu a roupa do Robson\"\n",
        "\n",
        "## Implemente aqui sua solução\n",
        "frase = \"O rato roeu a roupa do Robson\"\n",
        "frase = frase.lower().replace(\" \",\"\")\n",
        "frase = set(frase)\n",
        "print(sorted(frase))"
      ]
    },
    {
      "cell_type": "markdown",
      "id": "0856bd56",
      "metadata": {},
      "source": [
        "### Q2\n",
        "\n",
        "Desenvolva uma função em Python chamada ```tem_elementos_comuns()``` que recebe duas listas como parâmetros e retorna True se houver algum elemento comum entre as duas listas, e False caso contrário. Utilize sets para resolver essa tarefa."
      ]
    },
    {
      "cell_type": "code",
      "execution_count": null,
      "id": "f7ab6736",
      "metadata": {},
      "outputs": [],
      "source": [
        "# Implemente aqui a função tem_elementos_comuns()\n",
        "def tem_elementos_comuns(lista1, lista2):\n",
        "    lista1 = set(lista1)\n",
        "    lista2 = set(lista2)\n",
        "    if len(lista1.intersection(lista2)) >= 1:\n",
        "        return True\n",
        "    else:\n",
        "        return False"
      ]
    },
    {
      "cell_type": "code",
      "execution_count": 2,
      "id": "1022744a",
      "metadata": {
        "trusted": true
      },
      "outputs": [
        {
          "name": "stdout",
          "output_type": "stream",
          "text": [
            "True\n"
          ]
        }
      ],
      "source": [
        "# Execute esta célula para testar a função da Q2.\n",
        "lista1 = [1, 2, 3, 4]\n",
        "lista2 = [3, 4, 5, 6, 7]\n",
        "resultado = tem_elementos_comuns(lista1, lista2)\n",
        "print(resultado)  # Saída esperada: True"
      ]
    },
    {
      "cell_type": "markdown",
      "id": "649a5082",
      "metadata": {},
      "source": [
        "### Q3. \n",
        "\n",
        "Você vai coletar de diferentes turmas de alunos seus interesses em atividades extra curriculares dentre futebol, vôlei, rugby, música, teatro, ações comunitárias. Informe o conjunto de atividades comuns a todas a turmas. Pode preencher o iterável turmas com valores arbitrários. \n"
      ]
    },
    {
      "cell_type": "code",
      "execution_count": 3,
      "id": "880a9927",
      "metadata": {
        "trusted": true
      },
      "outputs": [
        {
          "name": "stdout",
          "output_type": "stream",
          "text": [
            "{'rugby'}\n"
          ]
        }
      ],
      "source": [
        "turmas = [\n",
        "     {'ações comunitárias', 'futebol', 'música', 'rugby'},\n",
        "     {'ações comunitárias', 'música', 'rugby', 'teatro'},\n",
        "     {'música', 'rugby', 'teatro', 'vôlei'},\n",
        "     {'música', 'vôlei', 'rugby'},\n",
        "     {'ações comunitárias', 'futebol', 'rugby', 'teatro', 'vôlei'},\n",
        "     {'ações comunitárias', 'futebol', 'rugby'},\n",
        "     {'ações comunitárias', 'rugby', 'teatro', 'vôlei'},\n",
        "     {'ações comunitárias', 'rugby', 'teatro', 'vôlei'},\n",
        "     {'ações comunitárias', 'rugby', 'vôlei'}\n",
        "]\n",
        "\n",
        "\n",
        "## Implemente aqui sua solução\n",
        "intersecao = turmas[0]\n",
        "for turma in turmas[1:]:\n",
        "    intersecao = turma.intersection(intersecao)\n",
        "\n",
        "print(intersecao)"
      ]
    },
    {
      "cell_type": "markdown",
      "id": "021e2b1e",
      "metadata": {},
      "source": [
        "### Q4. \n",
        "Considere duas listas que são duplicatas uma da outra, exceto por um elemento, exemplo:\n",
        "```\n",
        "A = [1, 4, 5, 7, 9]\n",
        "B = [4, 5, 7, 9]\n",
        "```\n",
        "\n",
        "Encontre e apresente o elemento diferente, informando também qual das listas está desfalcada. Para o exemplo acima, a saída esperada é\n",
        "```\n",
        "O elemento 1 está faltando na segunda lista\n",
        "```"
      ]
    },
    {
      "cell_type": "code",
      "execution_count": 5,
      "id": "608761a4",
      "metadata": {
        "trusted": true
      },
      "outputs": [
        {
          "name": "stdout",
          "output_type": "stream",
          "text": [
            "O elemento {1} está faltando na segunda lista\n"
          ]
        }
      ],
      "source": [
        "## Implemente aqui sua solução\n",
        "A = [1, 4, 5, 7, 9]\n",
        "B = [4, 5, 7, 9]\n",
        "\n",
        "lista1 = set(A)\n",
        "lista2 = set(B)\n",
        "faltando1 = lista1.difference(lista2)\n",
        "faltando2 = lista2.difference(lista1)\n",
        "\n",
        "if faltando1:\n",
        "    print(f\"O elemento {faltando1} está faltando na segunda lista\")\n",
        "elif faltando2:\n",
        "    print(f\"O elemento {faltando2} está faltando na primeira lista\")\n",
        "else:\n",
        "    print(\"Todos elementos de A estão presentes em B\")"
      ]
    },
    {
      "cell_type": "markdown",
      "id": "ddf180c1",
      "metadata": {},
      "source": [
        "### Q5.\n",
        "\n",
        "Panagramas são frases que contém todas as letras do alfabeto pelo menos uma vez. Crie uma função ```checa_panagrama``` que recebe uma string e retorna ```True``` caso seja um panagrama ou ```False```caso contrário. Use seu conhecimento de sets para solucionar essa questão.\n",
        "\n",
        "Ex: \n",
        "```\n",
        "Entrada: \"The quick brown fox jumps over the lazy dog\" \n",
        "Saída: É um panagrama\n",
        "```\n",
        "\n",
        "```\n",
        "Entrada: \"Python é uma linguagem de programação\" \n",
        "Saída: Não é um panagrama\n",
        "```"
      ]
    },
    {
      "cell_type": "code",
      "execution_count": null,
      "id": "4e8b0390",
      "metadata": {},
      "outputs": [],
      "source": [
        "## Implemente aqui sua solução\n",
        "def checa_panagrama(frase):\n",
        "    frase = frase.lower().replace(\" \",\"\")\n",
        "    frase_set = set(frase)\n",
        "    alfabeto = {\"a\", \"b\", \"c\", \"d\", \"e\", \"f\", \"g\", \"h\", \"i\", \"j\", \"k\", \"l\", \"m\", \"n\", \"o\", \"p\", \"q\", \"r\", \"s\", \"t\", \"u\", \"v\", \"w\", \"x\", \"y\", \"z\"}\n",
        "    if alfabeto.difference(frase_set):\n",
        "        print(\"Não é um panagrama\")\n",
        "    else:\n",
        "        print(\"É um panagrama\")\n",
        "\n",
        "frase = input(\"Escreva uma frase: \")\n",
        "checa_panagrama(frase)"
      ]
    }
  ],
  "metadata": {
    "kernelspec": {
      "display_name": "Python (Pyodide)",
      "language": "python",
      "name": "python"
    },
    "language_info": {
      "codemirror_mode": {
        "name": "python",
        "version": 3
      },
      "file_extension": ".py",
      "mimetype": "text/x-python",
      "name": "python",
      "nbconvert_exporter": "python",
      "pygments_lexer": "ipython3",
      "version": "3.8"
    }
  },
  "nbformat": 4,
  "nbformat_minor": 5
}
