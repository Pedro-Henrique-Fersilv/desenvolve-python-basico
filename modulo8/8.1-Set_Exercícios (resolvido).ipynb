{
  "metadata": {
    "kernelspec": {
      "name": "python",
      "display_name": "Python (Pyodide)",
      "language": "python"
    },
    "language_info": {
      "codemirror_mode": {
        "name": "python",
        "version": 3
      },
      "file_extension": ".py",
      "mimetype": "text/x-python",
      "name": "python",
      "nbconvert_exporter": "python",
      "pygments_lexer": "ipython3",
      "version": "3.8"
    }
  },
  "nbformat_minor": 5,
  "nbformat": 4,
  "cells": [
    {
      "id": "0d5035b5",
      "cell_type": "markdown",
      "source": "# Set\n\n## Aula 8.1",
      "metadata": {}
    },
    {
      "id": "0bdece85",
      "cell_type": "markdown",
      "source": "### Q1. \n\nDada uma string qualquer, use seu conhecimento de sets para apresentar os caracteres únicos que aparecem na string, ordenados alfabeticamente e sem duplicatas. Preste atenção em duplicatas de maiúsculas e minúsculas.\n",
      "metadata": {}
    },
    {
      "id": "0a258eba",
      "cell_type": "code",
      "source": "frase = \"O rato roeu a roupa do Robson\"\n\n## Implemente aqui sua solução\nfrase = \"O rato roeu a roupa do Robson\"\nfrase = frase.lower().replace(\" \",\"\")\nfrase = set(frase)\nprint(sorted(frase))",
      "metadata": {},
      "outputs": [],
      "execution_count": null
    },
    {
      "id": "0856bd56",
      "cell_type": "markdown",
      "source": "### Q2\n\nDesenvolva uma função em Python chamada ```tem_elementos_comuns()``` que recebe duas listas como parâmetros e retorna True se houver algum elemento comum entre as duas listas, e False caso contrário. Utilize sets para resolver essa tarefa.",
      "metadata": {}
    },
    {
      "id": "f7ab6736",
      "cell_type": "code",
      "source": "# Implemente aqui a função tem_elementos_comuns()\ndef tem_elementos_comuns(lista1, lista2):\n    lista1 = set(lista1)\n    lista2 = set(lista2)\n    if len(lista1.intersection(lista2)) >= 1:\n        return True\n    else:\n        return False",
      "metadata": {},
      "outputs": [],
      "execution_count": null
    },
    {
      "id": "1022744a",
      "cell_type": "code",
      "source": "# Execute esta célula para testar a função da Q2.\nlista1 = [1, 2, 3, 4]\nlista2 = [3, 4, 5, 6, 7]\nresultado = tem_elementos_comuns(lista1, lista2)\nprint(resultado)  # Saída esperada: True",
      "metadata": {
        "trusted": true
      },
      "outputs": [
        {
          "name": "stdout",
          "text": "True\n",
          "output_type": "stream"
        }
      ],
      "execution_count": 2
    },
    {
      "id": "649a5082",
      "cell_type": "markdown",
      "source": "### Q3. \n\nVocê vai coletar de diferentes turmas de alunos seus interesses em atividades extra curriculares dentre futebol, vôlei, rugby, música, teatro, ações comunitárias. Informe o conjunto de atividades comuns a todas a turmas. Pode preencher o iterável turmas com valores arbitrários. \n",
      "metadata": {}
    },
    {
      "id": "880a9927",
      "cell_type": "code",
      "source": "turmas = [\n     {'ações comunitárias', 'futebol', 'música', 'rugby'},\n     {'ações comunitárias', 'música', 'rugby', 'teatro'},\n     {'música', 'rugby', 'teatro', 'vôlei'},\n     {'música', 'vôlei', 'rugby'},\n     {'ações comunitárias', 'futebol', 'rugby', 'teatro', 'vôlei'},\n     {'ações comunitárias', 'futebol', 'rugby'},\n     {'ações comunitárias', 'rugby', 'teatro', 'vôlei'},\n     {'ações comunitárias', 'rugby', 'teatro', 'vôlei'},\n     {'ações comunitárias', 'rugby', 'vôlei'}\n]\n\n\n## Implemente aqui sua solução\nintersecao = turmas[1]\nfor turma in turmas:\n    intersecao = turma.intersection(intersecao)\n\nprint(intersecao)",
      "metadata": {
        "trusted": true
      },
      "outputs": [
        {
          "name": "stdout",
          "text": "{'rugby'}\n",
          "output_type": "stream"
        }
      ],
      "execution_count": 3
    },
    {
      "id": "021e2b1e",
      "cell_type": "markdown",
      "source": "### Q4. \nConsidere duas listas que são duplicatas uma da outra, exceto por um elemento, exemplo:\n```\nA = [1, 4, 5, 7, 9]\nB = [4, 5, 7, 9]\n```\n\nEncontre e apresente o elemento diferente, informando também qual das listas está desfalcada. Para o exemplo acima, a saída esperada é\n```\nO elemento 1 está faltando na segunda lista\n```",
      "metadata": {}
    },
    {
      "id": "608761a4",
      "cell_type": "code",
      "source": "## Implemente aqui sua solução\nA = [1, 4, 5, 7, 9]\nB = [4, 5, 7, 9]\n\nlista1 = set(A)\nlista2 = set(B)\nfaltando1 = lista1.difference(lista2)\nfaltando2 = lista2.difference(lista1)\n\nif faltando1:\n    print(f\"O elemento {faltando1} está faltando na segunda lista\")\nelif faltando2:\n    print(f\"O elemento {faltando2} está faltando na primeira lista\")\nelse:\n    print(\"Todos elementos de A estão presentes em B\")",
      "metadata": {
        "trusted": true
      },
      "outputs": [
        {
          "name": "stdout",
          "text": "O elemento {1} está faltando na segunda lista\n",
          "output_type": "stream"
        }
      ],
      "execution_count": 5
    },
    {
      "id": "ddf180c1",
      "cell_type": "markdown",
      "source": "### Q5.\n\nPanagramas são frases que contém todas as letras do alfabeto pelo menos uma vez. Crie uma função ```checa_panagrama``` que recebe uma string e retorna ```True``` caso seja um panagrama ou ```False```caso contrário. Use seu conhecimento de sets para solucionar essa questão.\n\nEx: \n```\nEntrada: \"The quick brown fox jumps over the lazy dog\" \nSaída: É um panagrama\n```\n\n```\nEntrada: \"Python é uma linguagem de programação\" \nSaída: Não é um panagrama\n```",
      "metadata": {}
    },
    {
      "id": "4e8b0390",
      "cell_type": "code",
      "source": "## Implemente aqui sua solução\ndef checa_panagrama(frase):\n    frase = frase.lower().replace(\" \",\"\")\n    frase_set = set(frase)\n    alfabeto = {\"a\", \"b\", \"c\", \"d\", \"e\", \"f\", \"g\", \"h\", \"i\", \"j\", \"k\", \"l\", \"m\", \"n\", \"o\", \"p\", \"q\", \"r\", \"s\", \"t\", \"u\", \"v\", \"w\", \"x\", \"y\", \"z\"}\n    if alfabeto.difference(frase_set):\n        print(\"Não é um panagrama\")\n    else:\n        print(\"É um panagrama\")\n\nfrase = input(\"Escreva uma frase: \")\ncheca_panagrama(frase)",
      "metadata": {},
      "outputs": [],
      "execution_count": null
    }
  ]
}